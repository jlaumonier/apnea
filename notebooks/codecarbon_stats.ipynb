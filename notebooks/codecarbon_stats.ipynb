{
 "cells": [
  {
   "cell_type": "code",
   "execution_count": 16,
   "id": "initial_id",
   "metadata": {
    "collapsed": true,
    "ExecuteTime": {
     "end_time": "2023-12-12T20:24:16.145794757Z",
     "start_time": "2023-12-12T20:24:16.100283304Z"
    }
   },
   "outputs": [],
   "source": [
    "import pandas as pd"
   ]
  },
  {
   "cell_type": "code",
   "execution_count": 17,
   "outputs": [],
   "source": [
    "df = pd.read_csv('../emissions.csv')"
   ],
   "metadata": {
    "collapsed": false,
    "ExecuteTime": {
     "end_time": "2023-12-12T20:24:19.043832449Z",
     "start_time": "2023-12-12T20:24:19.024856590Z"
    }
   },
   "id": "8701cd3745f306be"
  },
  {
   "cell_type": "code",
   "execution_count": 18,
   "outputs": [
    {
     "data": {
      "text/plain": "               timestamp project_name                                run_id  \\\n0    2023-07-21T08:49:53   codecarbon  35c95653-7525-4b9e-bd4d-2b4147c7bbe3   \n1    2023-07-21T08:50:18   codecarbon  3fb94e0e-c16e-44b0-9dfc-0634b61784c2   \n2    2023-07-21T09:08:13   codecarbon  47718f95-273e-40dd-9d19-278090a55574   \n3    2023-07-21T09:50:38   codecarbon  ffabf81a-2980-49e9-9fca-d714c9138d87   \n4    2023-07-21T10:08:28   codecarbon  ea4d9758-8ce4-4272-a74f-bf79e056584b   \n..                   ...          ...                                   ...   \n521  2023-12-12T07:35:26   codecarbon  b366bac7-3b08-4ea9-9e4b-20a155ba0b07   \n522  2023-12-12T10:48:32   codecarbon  09c03706-a5d4-44d7-a18b-63a38ef3610b   \n523  2023-12-12T12:32:07   codecarbon  f9a3c416-29b3-441e-bb4a-0c2b70eaf709   \n524  2023-12-12T13:39:11   codecarbon  a1722726-14a8-4a1a-abe4-ecc115d6958b   \n525  2023-12-12T15:15:13   codecarbon  26836793-2d34-4fbd-882f-11b9991907fb   \n\n         duration     emissions  emissions_rate  cpu_power  gpu_power  \\\n0        6.157624  3.502051e-07    5.687341e-08  32.500000     30.150   \n1        5.387481  3.070565e-07    5.699444e-08  32.500000     30.340   \n2       17.636938  1.005343e-06    5.700211e-08  32.500000     29.965   \n3        5.529402  3.283713e-07    5.938640e-08  33.548596     32.900   \n4        5.492543  3.120747e-07    5.681789e-08  32.143855     30.415   \n..            ...           ...             ...        ...        ...   \n521     99.665343  5.679350e-06    5.698421e-08  30.617897     30.886   \n522  11572.405244  6.798220e-04    5.874509e-08  35.560964     30.489   \n523   5889.656791  3.761934e-04    6.387357e-08  29.069635     30.961   \n524      3.252534  2.233158e-07    6.865901e-08  47.811178     32.810   \n525   5739.257393  3.959258e-04    6.898554e-08  36.893216     30.622   \n\n     ram_power  cpu_energy  ...  cpu_count  \\\n0    23.526000    0.000056  ...         12   \n1    23.526000    0.000049  ...         12   \n2    23.526000    0.000159  ...         12   \n3    23.526000    0.000052  ...         12   \n4    23.526000    0.000049  ...         12   \n..         ...         ...  ...        ...   \n521  23.524186    0.000862  ...         12   \n522  23.524186    0.106147  ...         12   \n523  23.524186    0.056669  ...         12   \n524  23.524186    0.000043  ...         12   \n525  23.524186    0.059167  ...         12   \n\n                               cpu_model  gpu_count  \\\n0    AMD Ryzen 5 2600 Six-Core Processor        1.0   \n1    AMD Ryzen 5 2600 Six-Core Processor        1.0   \n2    AMD Ryzen 5 2600 Six-Core Processor        1.0   \n3    AMD Ryzen 5 2600 Six-Core Processor        1.0   \n4    AMD Ryzen 5 2600 Six-Core Processor        1.0   \n..                                   ...        ...   \n521  AMD Ryzen 5 2600 Six-Core Processor        1.0   \n522  AMD Ryzen 5 2600 Six-Core Processor        1.0   \n523  AMD Ryzen 5 2600 Six-Core Processor        1.0   \n524  AMD Ryzen 5 2600 Six-Core Processor        1.0   \n525  AMD Ryzen 5 2600 Six-Core Processor        1.0   \n\n                       gpu_model longitude latitude  ram_total_size  \\\n0    1 x NVIDIA GeForce GTX 1660  -71.1920  46.8588       62.736000   \n1    1 x NVIDIA GeForce GTX 1660  -71.1920  46.8588       62.736000   \n2    1 x NVIDIA GeForce GTX 1660  -71.1920  46.8588       62.736000   \n3    1 x NVIDIA GeForce GTX 1660  -71.1920  46.8588       62.736000   \n4    1 x NVIDIA GeForce GTX 1660  -71.1920  46.8588       62.736000   \n..                           ...       ...      ...             ...   \n521  1 x NVIDIA GeForce GTX 1660  -71.1927  46.8801       62.731163   \n522  1 x NVIDIA GeForce GTX 1660  -71.1927  46.8801       62.731163   \n523  1 x NVIDIA GeForce GTX 1660  -71.1927  46.8801       62.731163   \n524  1 x NVIDIA GeForce GTX 1660  -71.1927  46.8801       62.731163   \n525  1 x NVIDIA GeForce GTX 1660  -71.1927  46.8801       62.731163   \n\n     tracking_mode on_cloud  pue  \n0          machine        N  1.0  \n1          machine        N  1.0  \n2          machine        N  1.0  \n3          machine        N  1.0  \n4          machine        N  1.0  \n..             ...      ...  ...  \n521        machine        N  1.0  \n522        machine        N  1.0  \n523        machine        N  1.0  \n524        machine        N  1.0  \n525        machine        N  1.0  \n\n[526 rows x 31 columns]",
      "text/html": "<div>\n<style scoped>\n    .dataframe tbody tr th:only-of-type {\n        vertical-align: middle;\n    }\n\n    .dataframe tbody tr th {\n        vertical-align: top;\n    }\n\n    .dataframe thead th {\n        text-align: right;\n    }\n</style>\n<table border=\"1\" class=\"dataframe\">\n  <thead>\n    <tr style=\"text-align: right;\">\n      <th></th>\n      <th>timestamp</th>\n      <th>project_name</th>\n      <th>run_id</th>\n      <th>duration</th>\n      <th>emissions</th>\n      <th>emissions_rate</th>\n      <th>cpu_power</th>\n      <th>gpu_power</th>\n      <th>ram_power</th>\n      <th>cpu_energy</th>\n      <th>...</th>\n      <th>cpu_count</th>\n      <th>cpu_model</th>\n      <th>gpu_count</th>\n      <th>gpu_model</th>\n      <th>longitude</th>\n      <th>latitude</th>\n      <th>ram_total_size</th>\n      <th>tracking_mode</th>\n      <th>on_cloud</th>\n      <th>pue</th>\n    </tr>\n  </thead>\n  <tbody>\n    <tr>\n      <th>0</th>\n      <td>2023-07-21T08:49:53</td>\n      <td>codecarbon</td>\n      <td>35c95653-7525-4b9e-bd4d-2b4147c7bbe3</td>\n      <td>6.157624</td>\n      <td>3.502051e-07</td>\n      <td>5.687341e-08</td>\n      <td>32.500000</td>\n      <td>30.150</td>\n      <td>23.526000</td>\n      <td>0.000056</td>\n      <td>...</td>\n      <td>12</td>\n      <td>AMD Ryzen 5 2600 Six-Core Processor</td>\n      <td>1.0</td>\n      <td>1 x NVIDIA GeForce GTX 1660</td>\n      <td>-71.1920</td>\n      <td>46.8588</td>\n      <td>62.736000</td>\n      <td>machine</td>\n      <td>N</td>\n      <td>1.0</td>\n    </tr>\n    <tr>\n      <th>1</th>\n      <td>2023-07-21T08:50:18</td>\n      <td>codecarbon</td>\n      <td>3fb94e0e-c16e-44b0-9dfc-0634b61784c2</td>\n      <td>5.387481</td>\n      <td>3.070565e-07</td>\n      <td>5.699444e-08</td>\n      <td>32.500000</td>\n      <td>30.340</td>\n      <td>23.526000</td>\n      <td>0.000049</td>\n      <td>...</td>\n      <td>12</td>\n      <td>AMD Ryzen 5 2600 Six-Core Processor</td>\n      <td>1.0</td>\n      <td>1 x NVIDIA GeForce GTX 1660</td>\n      <td>-71.1920</td>\n      <td>46.8588</td>\n      <td>62.736000</td>\n      <td>machine</td>\n      <td>N</td>\n      <td>1.0</td>\n    </tr>\n    <tr>\n      <th>2</th>\n      <td>2023-07-21T09:08:13</td>\n      <td>codecarbon</td>\n      <td>47718f95-273e-40dd-9d19-278090a55574</td>\n      <td>17.636938</td>\n      <td>1.005343e-06</td>\n      <td>5.700211e-08</td>\n      <td>32.500000</td>\n      <td>29.965</td>\n      <td>23.526000</td>\n      <td>0.000159</td>\n      <td>...</td>\n      <td>12</td>\n      <td>AMD Ryzen 5 2600 Six-Core Processor</td>\n      <td>1.0</td>\n      <td>1 x NVIDIA GeForce GTX 1660</td>\n      <td>-71.1920</td>\n      <td>46.8588</td>\n      <td>62.736000</td>\n      <td>machine</td>\n      <td>N</td>\n      <td>1.0</td>\n    </tr>\n    <tr>\n      <th>3</th>\n      <td>2023-07-21T09:50:38</td>\n      <td>codecarbon</td>\n      <td>ffabf81a-2980-49e9-9fca-d714c9138d87</td>\n      <td>5.529402</td>\n      <td>3.283713e-07</td>\n      <td>5.938640e-08</td>\n      <td>33.548596</td>\n      <td>32.900</td>\n      <td>23.526000</td>\n      <td>0.000052</td>\n      <td>...</td>\n      <td>12</td>\n      <td>AMD Ryzen 5 2600 Six-Core Processor</td>\n      <td>1.0</td>\n      <td>1 x NVIDIA GeForce GTX 1660</td>\n      <td>-71.1920</td>\n      <td>46.8588</td>\n      <td>62.736000</td>\n      <td>machine</td>\n      <td>N</td>\n      <td>1.0</td>\n    </tr>\n    <tr>\n      <th>4</th>\n      <td>2023-07-21T10:08:28</td>\n      <td>codecarbon</td>\n      <td>ea4d9758-8ce4-4272-a74f-bf79e056584b</td>\n      <td>5.492543</td>\n      <td>3.120747e-07</td>\n      <td>5.681789e-08</td>\n      <td>32.143855</td>\n      <td>30.415</td>\n      <td>23.526000</td>\n      <td>0.000049</td>\n      <td>...</td>\n      <td>12</td>\n      <td>AMD Ryzen 5 2600 Six-Core Processor</td>\n      <td>1.0</td>\n      <td>1 x NVIDIA GeForce GTX 1660</td>\n      <td>-71.1920</td>\n      <td>46.8588</td>\n      <td>62.736000</td>\n      <td>machine</td>\n      <td>N</td>\n      <td>1.0</td>\n    </tr>\n    <tr>\n      <th>...</th>\n      <td>...</td>\n      <td>...</td>\n      <td>...</td>\n      <td>...</td>\n      <td>...</td>\n      <td>...</td>\n      <td>...</td>\n      <td>...</td>\n      <td>...</td>\n      <td>...</td>\n      <td>...</td>\n      <td>...</td>\n      <td>...</td>\n      <td>...</td>\n      <td>...</td>\n      <td>...</td>\n      <td>...</td>\n      <td>...</td>\n      <td>...</td>\n      <td>...</td>\n      <td>...</td>\n    </tr>\n    <tr>\n      <th>521</th>\n      <td>2023-12-12T07:35:26</td>\n      <td>codecarbon</td>\n      <td>b366bac7-3b08-4ea9-9e4b-20a155ba0b07</td>\n      <td>99.665343</td>\n      <td>5.679350e-06</td>\n      <td>5.698421e-08</td>\n      <td>30.617897</td>\n      <td>30.886</td>\n      <td>23.524186</td>\n      <td>0.000862</td>\n      <td>...</td>\n      <td>12</td>\n      <td>AMD Ryzen 5 2600 Six-Core Processor</td>\n      <td>1.0</td>\n      <td>1 x NVIDIA GeForce GTX 1660</td>\n      <td>-71.1927</td>\n      <td>46.8801</td>\n      <td>62.731163</td>\n      <td>machine</td>\n      <td>N</td>\n      <td>1.0</td>\n    </tr>\n    <tr>\n      <th>522</th>\n      <td>2023-12-12T10:48:32</td>\n      <td>codecarbon</td>\n      <td>09c03706-a5d4-44d7-a18b-63a38ef3610b</td>\n      <td>11572.405244</td>\n      <td>6.798220e-04</td>\n      <td>5.874509e-08</td>\n      <td>35.560964</td>\n      <td>30.489</td>\n      <td>23.524186</td>\n      <td>0.106147</td>\n      <td>...</td>\n      <td>12</td>\n      <td>AMD Ryzen 5 2600 Six-Core Processor</td>\n      <td>1.0</td>\n      <td>1 x NVIDIA GeForce GTX 1660</td>\n      <td>-71.1927</td>\n      <td>46.8801</td>\n      <td>62.731163</td>\n      <td>machine</td>\n      <td>N</td>\n      <td>1.0</td>\n    </tr>\n    <tr>\n      <th>523</th>\n      <td>2023-12-12T12:32:07</td>\n      <td>codecarbon</td>\n      <td>f9a3c416-29b3-441e-bb4a-0c2b70eaf709</td>\n      <td>5889.656791</td>\n      <td>3.761934e-04</td>\n      <td>6.387357e-08</td>\n      <td>29.069635</td>\n      <td>30.961</td>\n      <td>23.524186</td>\n      <td>0.056669</td>\n      <td>...</td>\n      <td>12</td>\n      <td>AMD Ryzen 5 2600 Six-Core Processor</td>\n      <td>1.0</td>\n      <td>1 x NVIDIA GeForce GTX 1660</td>\n      <td>-71.1927</td>\n      <td>46.8801</td>\n      <td>62.731163</td>\n      <td>machine</td>\n      <td>N</td>\n      <td>1.0</td>\n    </tr>\n    <tr>\n      <th>524</th>\n      <td>2023-12-12T13:39:11</td>\n      <td>codecarbon</td>\n      <td>a1722726-14a8-4a1a-abe4-ecc115d6958b</td>\n      <td>3.252534</td>\n      <td>2.233158e-07</td>\n      <td>6.865901e-08</td>\n      <td>47.811178</td>\n      <td>32.810</td>\n      <td>23.524186</td>\n      <td>0.000043</td>\n      <td>...</td>\n      <td>12</td>\n      <td>AMD Ryzen 5 2600 Six-Core Processor</td>\n      <td>1.0</td>\n      <td>1 x NVIDIA GeForce GTX 1660</td>\n      <td>-71.1927</td>\n      <td>46.8801</td>\n      <td>62.731163</td>\n      <td>machine</td>\n      <td>N</td>\n      <td>1.0</td>\n    </tr>\n    <tr>\n      <th>525</th>\n      <td>2023-12-12T15:15:13</td>\n      <td>codecarbon</td>\n      <td>26836793-2d34-4fbd-882f-11b9991907fb</td>\n      <td>5739.257393</td>\n      <td>3.959258e-04</td>\n      <td>6.898554e-08</td>\n      <td>36.893216</td>\n      <td>30.622</td>\n      <td>23.524186</td>\n      <td>0.059167</td>\n      <td>...</td>\n      <td>12</td>\n      <td>AMD Ryzen 5 2600 Six-Core Processor</td>\n      <td>1.0</td>\n      <td>1 x NVIDIA GeForce GTX 1660</td>\n      <td>-71.1927</td>\n      <td>46.8801</td>\n      <td>62.731163</td>\n      <td>machine</td>\n      <td>N</td>\n      <td>1.0</td>\n    </tr>\n  </tbody>\n</table>\n<p>526 rows × 31 columns</p>\n</div>"
     },
     "execution_count": 18,
     "metadata": {},
     "output_type": "execute_result"
    }
   ],
   "source": [
    "df"
   ],
   "metadata": {
    "collapsed": false,
    "ExecuteTime": {
     "end_time": "2023-12-12T20:24:19.668372483Z",
     "start_time": "2023-12-12T20:24:19.660666596Z"
    }
   },
   "id": "29f5a30f80becdb8"
  },
  {
   "cell_type": "code",
   "execution_count": 19,
   "outputs": [
    {
     "name": "stdout",
     "output_type": "stream",
     "text": [
      "Energie consommée 5.119120546801524 kWh\n"
     ]
    }
   ],
   "source": [
    "print('Energie consommée', df['energy_consumed'].sum(), 'kWh')"
   ],
   "metadata": {
    "collapsed": false,
    "ExecuteTime": {
     "end_time": "2023-12-12T20:24:21.144024655Z",
     "start_time": "2023-12-12T20:24:21.128973955Z"
    }
   },
   "id": "8aa3346b08c22cab"
  },
  {
   "cell_type": "code",
   "execution_count": 20,
   "outputs": [
    {
     "name": "stdout",
     "output_type": "stream",
     "text": [
      "CO2Eq 0.012169268805762912 kg\n"
     ]
    }
   ],
   "source": [
    "print('CO2Eq', df['emissions'].sum(), 'kg')"
   ],
   "metadata": {
    "collapsed": false,
    "ExecuteTime": {
     "end_time": "2023-12-12T20:24:23.339326749Z",
     "start_time": "2023-12-12T20:24:23.305198669Z"
    }
   },
   "id": "363e766877d8c5cf"
  },
  {
   "cell_type": "code",
   "execution_count": 21,
   "outputs": [
    {
     "name": "stdout",
     "output_type": "stream",
     "text": [
      "Temps calcul total 207530.92853307724 s\n",
      "Temps calcul total 57.64748014807701 h\n"
     ]
    }
   ],
   "source": [
    "print('Temps calcul total', df['duration'].sum(), 's')\n",
    "print('Temps calcul total', df['duration'].sum()/3600, 'h')"
   ],
   "metadata": {
    "collapsed": false,
    "ExecuteTime": {
     "end_time": "2023-12-12T20:24:24.220470855Z",
     "start_time": "2023-12-12T20:24:24.205439736Z"
    }
   },
   "id": "58290e2a0c6208c6"
  },
  {
   "cell_type": "code",
   "execution_count": null,
   "outputs": [],
   "source": [],
   "metadata": {
    "collapsed": false
   },
   "id": "41901aa96d7e2796"
  }
 ],
 "metadata": {
  "kernelspec": {
   "display_name": "Python 3",
   "language": "python",
   "name": "python3"
  },
  "language_info": {
   "codemirror_mode": {
    "name": "ipython",
    "version": 2
   },
   "file_extension": ".py",
   "mimetype": "text/x-python",
   "name": "python",
   "nbconvert_exporter": "python",
   "pygments_lexer": "ipython2",
   "version": "2.7.6"
  }
 },
 "nbformat": 4,
 "nbformat_minor": 5
}
