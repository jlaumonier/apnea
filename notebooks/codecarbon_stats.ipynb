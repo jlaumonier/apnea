{
 "cells": [
  {
   "cell_type": "code",
   "execution_count": null,
   "id": "initial_id",
   "metadata": {
    "collapsed": true
   },
   "outputs": [],
   "source": [
    "import pandas as pd"
   ]
  },
  {
   "cell_type": "code",
   "execution_count": null,
   "outputs": [],
   "source": [
    "df = pd.read_csv('../emissions.csv')"
   ],
   "metadata": {
    "collapsed": false
   },
   "id": "8701cd3745f306be"
  },
  {
   "cell_type": "code",
   "execution_count": null,
   "outputs": [],
   "source": [
    "df"
   ],
   "metadata": {
    "collapsed": false
   },
   "id": "29f5a30f80becdb8"
  },
  {
   "cell_type": "code",
   "execution_count": null,
   "outputs": [],
   "source": [
    "print('Energie consommée', df['energy_consumed'].sum(), 'kWh')"
   ],
   "metadata": {
    "collapsed": false
   },
   "id": "8aa3346b08c22cab"
  },
  {
   "cell_type": "code",
   "execution_count": null,
   "outputs": [],
   "source": [
    "print('CO2Eq', df['emissions'].sum(), 'kg')"
   ],
   "metadata": {
    "collapsed": false
   },
   "id": "363e766877d8c5cf"
  },
  {
   "cell_type": "code",
   "execution_count": null,
   "outputs": [],
   "source": [
    "print('Temps calcul total', df['duration'].sum(), 's')\n",
    "print('Temps calcul total', df['duration'].sum()/3600, 'h')"
   ],
   "metadata": {
    "collapsed": false
   },
   "id": "58290e2a0c6208c6"
  },
  {
   "cell_type": "code",
   "execution_count": null,
   "outputs": [],
   "source": [],
   "metadata": {
    "collapsed": false
   },
   "id": "41901aa96d7e2796"
  }
 ],
 "metadata": {
  "kernelspec": {
   "display_name": "Python 3",
   "language": "python",
   "name": "python3"
  },
  "language_info": {
   "codemirror_mode": {
    "name": "ipython",
    "version": 2
   },
   "file_extension": ".py",
   "mimetype": "text/x-python",
   "name": "python",
   "nbconvert_exporter": "python",
   "pygments_lexer": "ipython2",
   "version": "2.7.6"
  }
 },
 "nbformat": 4,
 "nbformat_minor": 5
}
