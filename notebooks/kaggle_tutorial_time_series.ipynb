{
 "cells": [
  {
   "cell_type": "markdown",
   "source": [
    "# Kaggle Time serie tutorial applied to Apnea data\n",
    "\n",
    "(Inspired by https://www.kaggle.com/code/konradb/ts-0-the-basics?scriptVersionId=106894931)"
   ],
   "metadata": {
    "collapsed": false
   }
  },
  {
   "cell_type": "code",
   "execution_count": null,
   "metadata": {
    "collapsed": true
   },
   "outputs": [],
   "source": [
    "import pandas as pd\n",
    "import numpy as np\n",
    "from random import gauss\n",
    "from pandas.plotting import autocorrelation_plot\n",
    "import warnings\n",
    "import itertools\n",
    "from random import random\n",
    "from os import listdir, path\n",
    "from os.path import isfile, join\n",
    "from tqdm.notebook import tqdm\n",
    "\n",
    "import statsmodels.formula.api as smf\n",
    "import statsmodels.api as sm\n",
    "from statsmodels.graphics.tsaplots import plot_acf, plot_pacf\n",
    "from statsmodels.tsa.ar_model import AR\n",
    "from statsmodels.tsa.seasonal import seasonal_decompose\n",
    "from statsmodels.tsa.stattools import adfuller\n",
    "\n",
    "import matplotlib.pyplot as plt\n",
    "#plt.style.use('fivethirtyeight')\n",
    "# import matplotlib as mpl\n",
    "import seaborn as sns\n",
    "\n",
    "from pyapnea.oscar.oscar_loader import load_session\n",
    "from pyapnea.oscar.oscar_getter import event_data_to_dataframe, get_channel_from_code\n",
    "from pyapnea.oscar.oscar_constants import CHANNELS, ChannelID"
   ]
  },
  {
   "cell_type": "code",
   "execution_count": null,
   "outputs": [],
   "source": [
    "# adjust the parameters for displayed figures\n",
    "plt.rcParams.update({'figure.figsize': (25, 10)})"
   ],
   "metadata": {
    "collapsed": false
   }
  },
  {
   "cell_type": "code",
   "execution_count": null,
   "outputs": [],
   "source": [
    "filename_to_load = '../data/raw/ResMed_23192565579/Events/62202198.001'\n",
    "oscar_session_data = load_session(filename_to_load)\n",
    "df = event_data_to_dataframe(oscar_session_data, ChannelID.CPAP_FlowRate.value)\n",
    "df[['time_utc', 'FlowRate']].set_index('time_utc').plot()"
   ],
   "metadata": {
    "collapsed": false
   }
  },
  {
   "cell_type": "code",
   "execution_count": null,
   "outputs": [],
   "source": [
    "# decomposition\n",
    "# Period : 4s (approximately) of inspiration-expiration => 4000 ms / 40 ms (freq = 25Hz) = 100\n",
    "decomposition = sm.tsa.seasonal_decompose(df[\"FlowRate\"].head(2000), period=100)\n",
    "figure = decomposition.plot()\n",
    "plt.show()"
   ],
   "metadata": {
    "collapsed": false
   }
  },
  {
   "cell_type": "code",
   "execution_count": null,
   "outputs": [],
   "source": [],
   "metadata": {
    "collapsed": false
   }
  }
 ],
 "metadata": {
  "kernelspec": {
   "display_name": "Python 3",
   "language": "python",
   "name": "python3"
  },
  "language_info": {
   "codemirror_mode": {
    "name": "ipython",
    "version": 2
   },
   "file_extension": ".py",
   "mimetype": "text/x-python",
   "name": "python",
   "nbconvert_exporter": "python",
   "pygments_lexer": "ipython2",
   "version": "2.7.6"
  }
 },
 "nbformat": 4,
 "nbformat_minor": 0
}
