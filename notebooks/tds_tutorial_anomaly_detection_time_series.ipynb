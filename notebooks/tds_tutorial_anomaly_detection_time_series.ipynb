{
 "cells": [
  {
   "cell_type": "markdown",
   "source": [
    "### (Inspired from https://towardsdatascience.com/anomaly-detection-in-time-series-sensor-data-86fd52e62538)"
   ],
   "metadata": {
    "collapsed": false
   }
  },
  {
   "cell_type": "code",
   "execution_count": null,
   "outputs": [],
   "source": [
    "import sys\n",
    "from os import listdir\n",
    "from os.path import isfile, join\n",
    "import datetime\n",
    "\n",
    "import scipy as sy\n",
    "import scipy.fftpack as syfp\n",
    "from tqdm.notebook import tqdm\n",
    "import pandas as pd\n",
    "import matplotlib.pyplot as plt\n",
    "import matplotlib as mtpl\n",
    "import numpy as np\n",
    "\n",
    "from pyapnea.oscar.oscar_loader import load_session\n",
    "from pyapnea.oscar.oscar_getter import event_data_to_dataframe\n",
    "from pyapnea.oscar.oscar_constants import CHANNELS, ChannelID"
   ],
   "metadata": {
    "collapsed": false
   }
  },
  {
   "cell_type": "code",
   "execution_count": null,
   "outputs": [],
   "source": [
    "# all files\n",
    "data_path_cpap1 = '../data/raw/ResMed_23192565579/Events'\n",
    "list_files = [{'label': f, 'value': f, 'fullpath': join(data_path_cpap1, f)} for f in listdir(data_path_cpap1) if isfile(join(data_path_cpap1, f))]\n",
    "data_path_cpap2= '../data/raw/ResMed_23221085377/Events'\n",
    "list_files.extend([{'label': f, 'value': f, 'fullpath': join(data_path_cpap2, f)} for f in listdir(data_path_cpap2) if isfile(join(data_path_cpap2, f))])"
   ],
   "metadata": {
    "collapsed": false
   }
  },
  {
   "cell_type": "code",
   "execution_count": null,
   "outputs": [],
   "source": [
    "sfreq = 25"
   ],
   "metadata": {
    "collapsed": false
   }
  },
  {
   "cell_type": "code",
   "execution_count": null,
   "outputs": [],
   "source": [
    "filename_to_load = '../data/raw/ResMed_23192565579/Events/62202198.001'\n",
    "oscar_session_data = load_session(filename_to_load)\n",
    "df = event_data_to_dataframe(oscar_session_data, [ChannelID.CPAP_FlowRate.value, ChannelID.CPAP_ClearAirway.value, ChannelID.CPAP_Obstructive.value])\n",
    "df.set_index('time_utc', inplace=True)\n",
    "df"
   ],
   "metadata": {
    "collapsed": false
   }
  },
  {
   "cell_type": "code",
   "execution_count": null,
   "outputs": [],
   "source": [
    "# reorganize dataframe to seaborn imput format\n",
    "\n",
    "dfc = df[['FlowRate']]\n",
    "# dfm = dfc.melt('time_utc', var_name='cols', value_name='vals')\n",
    "# dfm.sort_values(by=['time_utc'], inplace=True, ignore_index=True)\n",
    "# dfm_annotation = dfm[(~pd.isnull(dfm['vals']) & ((dfm['cols']=='Obstructive') | (dfm['cols']=='ClearAirway')))]\n",
    "# display(dfm_annotation)\n",
    "dfm_annotation=df[~df['Obstructive'].isna() | ~df['ClearAirway'].isna()]\n",
    "dfm_annotation=dfm_annotation[['Obstructive', 'ClearAirway']]\n",
    "dfm_annotation"
   ],
   "metadata": {
    "collapsed": false
   }
  },
  {
   "cell_type": "markdown",
   "source": [
    "## Exploratory Data Analysis (EDA)"
   ],
   "metadata": {
    "collapsed": false
   }
  },
  {
   "cell_type": "code",
   "execution_count": null,
   "outputs": [],
   "source": [
    "\n",
    "_ = plt.figure(figsize=(18,6))\n",
    "_ = plt.plot(dfc['FlowRate'], color='blue')\n",
    "_ = plt.plot(dfm_annotation[~dfm_annotation['Obstructive'].isna()], linestyle='none', marker='X', color='red', markersize=8)\n",
    "_ = plt.plot(dfm_annotation[~dfm_annotation['ClearAirway'].isna()], linestyle='none', marker='X', color='green', markersize=8)\n",
    "_ = plt.title('FlowRate')\n",
    "plt.show()"
   ],
   "metadata": {
    "collapsed": false
   }
  },
  {
   "cell_type": "code",
   "execution_count": null,
   "outputs": [],
   "source": [
    "rollmean = dfc.resample(rule='4S').mean()\n",
    "rollstd = dfc.resample(rule='4S').std()"
   ],
   "metadata": {
    "collapsed": false
   }
  },
  {
   "cell_type": "code",
   "execution_count": null,
   "outputs": [],
   "source": [
    "_ = plt.figure(figsize=(25,10))\n",
    "_ = plt.plot(dfc['FlowRate'], color='blue', label='Original')\n",
    "_ = plt.plot(rollmean['FlowRate'], color='red', label='Rolling Mean')\n",
    "_ = plt.plot(rollstd['FlowRate'], color='black', label='Rolling Std' )\n",
    "_ = plt.plot(dfm_annotation[~dfm_annotation['Obstructive'].isna()], linestyle='none', marker='X', color='red', markersize=10)\n",
    "_ = plt.plot(dfm_annotation[~dfm_annotation['ClearAirway'].isna()], linestyle='none', marker='X', color='green', markersize=10)\n",
    "_ = plt.legend(loc='best')\n",
    "_ = plt.title('FlowRate')\n",
    "plt.show()"
   ],
   "metadata": {
    "collapsed": false
   }
  },
  {
   "cell_type": "code",
   "execution_count": null,
   "outputs": [],
   "source": [
    "print(len(dfc['FlowRate']))\n",
    "_ = plt.figure(figsize=(25,10))\n",
    "_ = plt.specgram(dfc['FlowRate'], Fs=25, NFFT=64, noverlap=2, cmap='nipy_spectral')\n",
    "plt.xlabel('Time (s)')\n",
    "plt.ylabel('Frequency (Hz)')\n",
    "plt.colorbar(label='Intensity (dB)')\n",
    "plt.show()"
   ],
   "metadata": {
    "collapsed": false
   }
  },
  {
   "cell_type": "code",
   "execution_count": null,
   "outputs": [],
   "source": [
    "# from https://stackoverflow.com/questions/26105698/how-to-calculate-frequency-of-a-give-wave-and-time\n",
    "# Do FFT analysis of array\n",
    "dt = 40/1000  # 40 ms\n",
    "FFT = sy.fft.fft(dfc['FlowRate'].values)\n",
    "\n",
    "# Getting the related frequencies\n",
    "freqs = syfp.fftfreq(len(dfc['FlowRate']), dt)\n",
    "\n",
    "_ = plt.figure(figsize=(25,10))\n",
    "_ = plt.plot(freqs, np.lib.scimath.log10(abs(FFT)), '.')\n",
    "plt.xlim(-1, 1)\n",
    "plt.show()"
   ],
   "metadata": {
    "collapsed": false
   }
  },
  {
   "cell_type": "code",
   "execution_count": null,
   "outputs": [],
   "source": [
    "# frequency most common in the signal\n",
    "from operator import itemgetter\n",
    "index, element = max(enumerate(np.lib.scimath.log10(abs(FFT))), key=itemgetter(1))\n",
    "common_freq = freqs[index]\n",
    "print('freq (Hz) = ', common_freq)\n",
    "# most common breath length (s)\n",
    "most_common_breath_length = 1/common_freq\n",
    "print('most common breath len (s)', most_common_breath_length)"
   ],
   "metadata": {
    "collapsed": false
   }
  },
  {
   "cell_type": "code",
   "execution_count": null,
   "outputs": [],
   "source": [
    "event_time = dfm_annotation.index[1]\n",
    "_ = plt.figure(figsize=(25,10))\n",
    "_ = plt.plot(dfc['FlowRate'], color='blue', label='Original')\n",
    "_ = plt.plot(rollmean['FlowRate'], color='red', label='Rolling Mean')\n",
    "_ = plt.plot(rollstd['FlowRate'], color='black', label='Rolling Std')\n",
    "_ = plt.plot(dfm_annotation[~dfm_annotation['Obstructive'].isna()], linestyle='none', marker='X', color='red', markersize=10)\n",
    "_ = plt.plot(dfm_annotation[~dfm_annotation['ClearAirway'].isna()], linestyle='none', marker='X', color='green', markersize=10)\n",
    "_ = plt.legend(loc='best')\n",
    "_ = plt.title('FlowRate')\n",
    "plt.ylim(-50, 50)\n",
    "plt.xlim(event_time - datetime.timedelta(seconds=50), event_time + datetime.timedelta(seconds=10))\n",
    "plt.show()"
   ],
   "metadata": {
    "collapsed": false
   }
  },
  {
   "cell_type": "code",
   "execution_count": null,
   "outputs": [],
   "source": [
    "print(len(dfc['FlowRate'].loc[event_time - datetime.timedelta(seconds=50): event_time + datetime.timedelta(seconds=10)]))\n",
    "_ = plt.figure(figsize=(25,10))\n",
    "_ = plt.specgram(dfc['FlowRate'].loc[event_time - datetime.timedelta(seconds=50): event_time + datetime.timedelta(seconds=10)], Fs=25, NFFT=16, noverlap=2, cmap='nipy_spectral')\n",
    "plt.xlabel('Time (s)')\n",
    "plt.ylabel('Frequency (Hz)')\n",
    "plt.colorbar(label='Intensity (dB)')\n",
    "plt.show()"
   ],
   "metadata": {
    "collapsed": false
   }
  },
  {
   "cell_type": "markdown",
   "source": [
    "## stationarity and autocorrelation\n",
    "see https://statisticsbyjim.com/time-series/autocorrelation-partial-autocorrelation/\n",
    "https://analyzingalpha.com/time-series-analysis-with-python"
   ],
   "metadata": {
    "collapsed": false
   }
  },
  {
   "cell_type": "code",
   "execution_count": null,
   "outputs": [],
   "source": [
    "from statsmodels.tsa.stattools import adfuller\n",
    "# Run Augmented Dickey Fuller Test\n",
    "result = adfuller(dfc['FlowRate'], autolag=None, maxlag=100)\n",
    "# Print p-value\n",
    "print(result[1])"
   ],
   "metadata": {
    "collapsed": false
   }
  },
  {
   "cell_type": "code",
   "execution_count": null,
   "outputs": [],
   "source": [
    "# Plot ACF\n",
    "from statsmodels.graphics.tsaplots import plot_acf\n",
    "with mtpl.rc_context():\n",
    "    mtpl.rc(\"figure\", figsize=(20,15))\n",
    "    plot_acf(dfc['FlowRate'].dropna(), lags=400, zero=False)\n",
    "# See https://stackoverflow.com/questions/63189488/no-confidence-interval-are-shown-when-using-plot-acf for high-resolution time series"
   ],
   "metadata": {
    "collapsed": false
   }
  },
  {
   "cell_type": "markdown",
   "source": [
    "# Models"
   ],
   "metadata": {
    "collapsed": false
   }
  },
  {
   "cell_type": "markdown",
   "source": [
    "## Interquartile Range\n",
    "\n",
    "Strategy:\n",
    "\n",
    "    Calculate IQR which is the difference between 75th (Q3)and 25th (Q1) percentiles.\n",
    "    Calculate upper and lower bounds for the outlier.\n",
    "    Filter the data points that fall outside the upper and lower bounds and flag them as outliers.\n",
    "    Finally, plot the outliers on top of the time series data (the readings from sensor_11 in this case)"
   ],
   "metadata": {
    "collapsed": false
   }
  },
  {
   "cell_type": "code",
   "execution_count": null,
   "outputs": [],
   "source": [
    "# Calculate IQR for the FlowRate component\n",
    "df_iqr = dfc.copy()\n",
    "q1_pc1, q3_pc1 = df_iqr['FlowRate'].quantile([0.25, 0.75])\n",
    "iqr_pc1 = q3_pc1 - q1_pc1 # Calculate upper and lower bounds for outlier for pc1\n",
    "lower_pc1 = q1_pc1 - (1.5*iqr_pc1)\n",
    "upper_pc1 = q3_pc1 + (1.5*iqr_pc1) # Filter out the outliers from the pc1\n",
    "df_iqr['anomaly_pc1'] = ((df_iqr['FlowRate']>upper_pc1) | (df_iqr['FlowRate']<lower_pc1))\n",
    "a = df_iqr[df_iqr['anomaly_pc1'] == 1] #anomaly\n",
    "_ = plt.figure(figsize=(18,6))\n",
    "_ = plt.plot(df_iqr['FlowRate'], color='blue', label='Normal')\n",
    "_ = plt.plot(a['FlowRate'], linestyle='none', marker='X', color='purple', markersize=10, label='Anomaly')\n",
    "_ = plt.plot(dfm_annotation[~dfm_annotation['Obstructive'].isna()], linestyle='none', marker='X', color='red', markersize=10)\n",
    "_ = plt.plot(dfm_annotation[~dfm_annotation['ClearAirway'].isna()], linestyle='none', marker='X', color='green', markersize=10)\n",
    "_ = plt.xlabel('Date and Time')\n",
    "_ = plt.ylabel('Sensor Reading')\n",
    "_ = plt.title('FlowRate Anomalies')\n",
    "_ = plt.legend(loc='best')\n",
    "plt.show();"
   ],
   "metadata": {
    "collapsed": false
   }
  },
  {
   "cell_type": "markdown",
   "source": [
    "## K-Means Clustering\n",
    "\n",
    "Strategy:\n",
    "\n",
    "    Calculate the distance between each point and its nearest centroid. The biggest distances are considered as anomaly.\n",
    "    We use outliers_fraction to provide information to the algorithm about the proportion of the outliers present in our data set. Situations may vary from data set to data set. However, as a starting figure, I estimate outliers_fraction=0.13 (13% of df are outliers as depicted).\n",
    "    Calculate number_of_outliers using outliers_fraction.\n",
    "    Set threshold as the minimum distance of these outliers.\n",
    "    The anomaly result of anomaly1 contains the above method Cluster (0:normal, 1:anomaly).\n",
    "    Visualize anomalies with Time Series view."
   ],
   "metadata": {
    "collapsed": false
   }
  },
  {
   "cell_type": "code",
   "execution_count": null,
   "outputs": [],
   "source": [
    "# Import necessary libraries\n",
    "from sklearn.cluster import KMeans\n",
    "df_km = dfc.copy()\n",
    "kmeans = KMeans(n_clusters=2, random_state=42)\n",
    "kmeans.fit(df_km.values)\n",
    "labels = kmeans.predict(df_km.values)\n",
    "unique_elements, counts_elements = np.unique(labels, return_counts=True)\n",
    "clusters = np.asarray((unique_elements, counts_elements))# Write a function that calculates distance between each point and the centroid of the closest cluster\n",
    "\n",
    "_ = plt.figure(figsize = (9, 7))\n",
    "_ = plt.bar(clusters[0], clusters[1], tick_label=clusters[0])\n",
    "_ = plt.xlabel('Clusters')\n",
    "_ = plt.ylabel('Number of points')\n",
    "_ = plt.title('Number of points in each cluster')\n",
    "plt.show()"
   ],
   "metadata": {
    "collapsed": false
   }
  },
  {
   "cell_type": "code",
   "execution_count": null,
   "outputs": [],
   "source": [
    "_ = plt.figure(figsize=(9,7))\n",
    "_ = plt.scatter(df_km['FlowRate'], df_km['FlowRate'], c=labels)\n",
    "_ = plt.xlabel('FlowRate')\n",
    "_ = plt.ylabel('FlowRate')\n",
    "_ = plt.title('K-means of clustering')\n",
    "plt.show()"
   ],
   "metadata": {
    "collapsed": false
   }
  },
  {
   "cell_type": "code",
   "execution_count": null,
   "outputs": [],
   "source": [
    "def getDistanceByPoint(data, model):\n",
    "    \"\"\" Function that calculates the distance between a point and centroid of a cluster,\n",
    "            returns the distances in pandas series\"\"\"\n",
    "    distance = []\n",
    "    for i in range(0,len(data)):\n",
    "        Xa = np.array(data.iloc[i])\n",
    "        Xb = model.cluster_centers_[model.labels_[i]-1]\n",
    "        distance.append(np.linalg.norm(Xa-Xb))\n",
    "    return pd.Series(distance, index=data.index) # Assume that 13% of the entire data set are anomalies\n",
    "\n",
    "outliers_fraction = 0.01# get the distance between each point and its nearest centroid. The biggest distances are considered as anomaly\n",
    "distance = getDistanceByPoint(df_km, kmeans)# number of observations that equate to the 13% of the entire data set\n",
    "number_of_outliers = int(outliers_fraction*len(distance))# Take the minimum of the largest 13% of the distances as the threshold\n",
    "threshold = distance.nlargest(number_of_outliers).min()# anomaly1 contain the anomaly result of the above method Cluster (0:normal, 1:anomaly)\n",
    "df_km['anomaly1'] = (distance >= threshold)\n",
    "\n",
    "df_km.head()"
   ],
   "metadata": {
    "collapsed": false
   }
  },
  {
   "cell_type": "code",
   "execution_count": null,
   "outputs": [],
   "source": [
    "df_km['anomaly1'].value_counts()"
   ],
   "metadata": {
    "collapsed": false
   }
  },
  {
   "cell_type": "code",
   "execution_count": null,
   "outputs": [],
   "source": [
    "#df_km['anomaly1'] = pd.Series(df_km['anomaly1'].values, index=df_km.index)\n",
    "a = df_km[df_km['anomaly1'] == 1] #anomaly\n",
    "_ = plt.figure(figsize=(18,6))\n",
    "_ = plt.plot(df_km['FlowRate'], color='blue', label='Normal')\n",
    "_ = plt.plot(a['FlowRate'], linestyle='none', marker='X', color='purple', markersize=10, label='Anomaly')\n",
    "_ = plt.plot(dfm_annotation[~dfm_annotation['Obstructive'].isna()], linestyle='none', marker='X', color='red', markersize=10)\n",
    "_ = plt.plot(dfm_annotation[~dfm_annotation['ClearAirway'].isna()], linestyle='none', marker='X', color='green', markersize=10)\n",
    "_ = plt.xlabel('Date and Time')\n",
    "_ = plt.ylabel('Sensor Reading')\n",
    "_ = plt.title('FlowRate Anomalies')\n",
    "_ = plt.legend(loc='best')\n",
    "plt.show();\n"
   ],
   "metadata": {
    "collapsed": false
   }
  },
  {
   "cell_type": "markdown",
   "source": [
    "## Isolation Forest\n",
    "Aucun sens sur des données 1D : https://stackoverflow.com/questions/50957340/isolation-forest-sklearn-for-1d-array-or-list-and-how-to-tune-hyper-parameters"
   ],
   "metadata": {
    "collapsed": false
   }
  },
  {
   "cell_type": "code",
   "execution_count": null,
   "outputs": [],
   "source": [
    "# Import IsolationForest\n",
    "from sklearn.ensemble import IsolationForest\n",
    "df_if = dfc.copy()\n",
    "\n",
    "# Assume that 13% of the entire data set are anomalies\n",
    "outliers_fraction = 0.13\n",
    "model =  IsolationForest(contamination=outliers_fraction, )\n",
    "model.fit(df_if.values)\n",
    "df_if['anomaly2'] = pd.Series(model.predict(df_if.values))\n",
    "a = df_if.loc[df_if['anomaly2'] == -1] #anomaly\n",
    "a.head()"
   ],
   "metadata": {
    "collapsed": false
   }
  },
  {
   "cell_type": "code",
   "execution_count": null,
   "outputs": [],
   "source": [
    "# visualization\n",
    "#df_if['anomaly2'] = pd.Series(df_if['anomaly2'].values, index=df.index)\n",
    "\n",
    "_ = plt.figure(figsize=(18,6))\n",
    "_ = plt.plot(df_if['FlowRate'], color='blue', label='Normal')\n",
    "_ = plt.plot(a['FlowRate'], linestyle='none', marker='X', color='purple', markersize=10, label='Anomaly')\n",
    "_ = plt.plot(dfm_annotation[~dfm_annotation['Obstructive'].isna()], linestyle='none', marker='X', color='red', markersize=10)\n",
    "_ = plt.plot(dfm_annotation[~dfm_annotation['ClearAirway'].isna()], linestyle='none', marker='X', color='green', markersize=10)\n",
    "_ = plt.xlabel('Date and Time')\n",
    "_ = plt.ylabel('Sensor Reading')\n",
    "_ = plt.title('FlowRate Anomalies')\n",
    "_ = plt.legend(loc='best')\n",
    "plt.show();"
   ],
   "metadata": {
    "collapsed": false
   }
  },
  {
   "cell_type": "code",
   "execution_count": null,
   "outputs": [],
   "source": [],
   "metadata": {
    "collapsed": false
   }
  }
 ],
 "metadata": {
  "kernelspec": {
   "display_name": "Python 3",
   "language": "python",
   "name": "python3"
  },
  "language_info": {
   "codemirror_mode": {
    "name": "ipython",
    "version": 2
   },
   "file_extension": ".py",
   "mimetype": "text/x-python",
   "name": "python",
   "nbconvert_exporter": "python",
   "pygments_lexer": "ipython2",
   "version": "2.7.6"
  }
 },
 "nbformat": 4,
 "nbformat_minor": 0
}
