{
 "cells": [
  {
   "cell_type": "markdown",
   "source": [
    "### (Inspired from https://towardsdatascience.com/anomaly-detection-in-time-series-sensor-data-86fd52e62538)"
   ],
   "metadata": {
    "collapsed": false
   }
  },
  {
   "cell_type": "code",
   "execution_count": null,
   "outputs": [],
   "source": [
    "import sys\n",
    "from os import listdir\n",
    "from os.path import isfile, join\n",
    "from datetime import  timezone\n",
    "\n",
    "from tqdm.notebook import tqdm\n",
    "import mne\n",
    "import pandas as pd\n",
    "import matplotlib.pyplot as plt\n",
    "\n",
    "from pyapnea.oscar.oscar_loader import load_session\n",
    "from pyapnea.oscar.oscar_getter import event_data_to_dataframe\n",
    "from pyapnea.oscar.oscar_constants import CHANNELS, ChannelID"
   ],
   "metadata": {
    "collapsed": false
   }
  },
  {
   "cell_type": "code",
   "execution_count": null,
   "outputs": [],
   "source": [
    "# all files\n",
    "data_path_cpap1 = '../data/raw/ResMed_23192565579/Events'\n",
    "list_files = [{'label': f, 'value': f, 'fullpath': join(data_path_cpap1, f)} for f in listdir(data_path_cpap1) if isfile(join(data_path_cpap1, f))]\n",
    "data_path_cpap2= '../data/raw/ResMed_23221085377/Events'\n",
    "list_files.extend([{'label': f, 'value': f, 'fullpath': join(data_path_cpap2, f)} for f in listdir(data_path_cpap2) if isfile(join(data_path_cpap2, f))])"
   ],
   "metadata": {
    "collapsed": false
   }
  },
  {
   "cell_type": "code",
   "execution_count": null,
   "outputs": [],
   "source": [
    "sfreq = 25"
   ],
   "metadata": {
    "collapsed": false
   }
  },
  {
   "cell_type": "code",
   "execution_count": null,
   "outputs": [],
   "source": [
    "filename_to_load = '../data/raw/ResMed_23192565579/Events/62202198.001'\n",
    "oscar_session_data = load_session(filename_to_load)\n",
    "df = event_data_to_dataframe(oscar_session_data, [ChannelID.CPAP_FlowRate.value, ChannelID.CPAP_ClearAirway.value, ChannelID.CPAP_Obstructive.value])\n",
    "df.set_index('time_utc', inplace=True)\n",
    "df"
   ],
   "metadata": {
    "collapsed": false
   }
  },
  {
   "cell_type": "code",
   "execution_count": null,
   "outputs": [],
   "source": [
    "# reorganize dataframe to seaborn imput format\n",
    "\n",
    "dfc = df[['FlowRate']]\n",
    "# dfm = dfc.melt('time_utc', var_name='cols', value_name='vals')\n",
    "# dfm.sort_values(by=['time_utc'], inplace=True, ignore_index=True)\n",
    "# dfm_annotation = dfm[(~pd.isnull(dfm['vals']) & ((dfm['cols']=='Obstructive') | (dfm['cols']=='ClearAirway')))]\n",
    "# display(dfm_annotation)\n",
    "dfm_annotation=df[~df['Obstructive'].isna() | ~df['ClearAirway'].isna()]\n",
    "dfm_annotation=dfm_annotation[['Obstructive', 'ClearAirway']]\n",
    "dfm_annotation"
   ],
   "metadata": {
    "collapsed": false
   }
  },
  {
   "cell_type": "markdown",
   "source": [
    "## Exploratory Data Analysis (EDA)"
   ],
   "metadata": {
    "collapsed": false
   }
  },
  {
   "cell_type": "code",
   "execution_count": null,
   "outputs": [],
   "source": [
    "\n",
    "_ = plt.figure(figsize=(18,6))\n",
    "_ = plt.plot(dfc['FlowRate'], color='blue')\n",
    "_ = plt.plot(dfm_annotation[~dfm_annotation['Obstructive'].isna()], linestyle='none', marker='X', color='red', markersize=8)\n",
    "_ = plt.plot(dfm_annotation[~dfm_annotation['ClearAirway'].isna()], linestyle='none', marker='X', color='green', markersize=8)\n",
    "_ = plt.title('FlowRate')\n",
    "plt.show()"
   ],
   "metadata": {
    "collapsed": false
   }
  },
  {
   "cell_type": "code",
   "execution_count": null,
   "outputs": [],
   "source": [
    "rollmean = dfc.resample(rule='T').mean()\n",
    "rollstd = dfc.resample(rule='T').std()"
   ],
   "metadata": {
    "collapsed": false
   }
  },
  {
   "cell_type": "code",
   "execution_count": null,
   "outputs": [],
   "source": [
    "_ = plt.figure(figsize=(18,10))\n",
    "_ = plt.plot(dfc['FlowRate'], color='blue', label='Original')\n",
    "_ = plt.plot(rollmean['FlowRate'], color='red', label='Rolling Mean')\n",
    "_ = plt.plot(rollstd['FlowRate'], color='black', label='Rolling Std' )\n",
    "_ = plt.plot(dfm_annotation[~dfm_annotation['Obstructive'].isna()], linestyle='none', marker='X', color='red', markersize=10)\n",
    "_ = plt.plot(dfm_annotation[~dfm_annotation['ClearAirway'].isna()], linestyle='none', marker='X', color='green', markersize=10)\n",
    "_ = plt.legend(loc='best')\n",
    "_ = plt.title('FlowRate')\n",
    "plt.show()"
   ],
   "metadata": {
    "collapsed": false
   }
  },
  {
   "cell_type": "code",
   "execution_count": null,
   "outputs": [],
   "source": [],
   "metadata": {
    "collapsed": false
   }
  }
 ],
 "metadata": {
  "kernelspec": {
   "display_name": "Python 3",
   "language": "python",
   "name": "python3"
  },
  "language_info": {
   "codemirror_mode": {
    "name": "ipython",
    "version": 2
   },
   "file_extension": ".py",
   "mimetype": "text/x-python",
   "name": "python",
   "nbconvert_exporter": "python",
   "pygments_lexer": "ipython2",
   "version": "2.7.6"
  }
 },
 "nbformat": 4,
 "nbformat_minor": 0
}
