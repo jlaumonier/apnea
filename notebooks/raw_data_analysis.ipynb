{
 "cells": [
  {
   "cell_type": "code",
   "execution_count": null,
   "metadata": {},
   "outputs": [],
   "source": [
    "import os.path\n",
    "from os import listdir, path\n",
    "from os.path import isfile, join\n",
    "import datetime\n",
    "from tqdm.notebook import tqdm\n",
    "\n",
    "import numpy as np\n",
    "import matplotlib.pyplot as plt\n",
    "import pandas as pd\n",
    "from IPython.display import display\n",
    "import seaborn as sns\n",
    "import plotly.express as px\n",
    "from plotly.offline import init_notebook_mode, iplot\n",
    "\n",
    "\n",
    "from pyapnea.oscar.oscar_loader import load_session\n",
    "from pyapnea.oscar.oscar_getter import event_data_to_dataframe, get_channel_from_code\n",
    "from pyapnea.oscar.oscar_constants import CHANNELS, ChannelID"
   ]
  },
  {
   "cell_type": "code",
   "execution_count": null,
   "metadata": {},
   "outputs": [],
   "source": [
    "# init notebook parameters\n",
    "init_notebook_mode(connected=True)\n",
    "#pd.set_option('display.max_rows', None)"
   ]
  },
  {
   "cell_type": "code",
   "execution_count": null,
   "metadata": {},
   "outputs": [],
   "source": [
    "#data_path = '/home/julien/Documents/OSCAR_Data-master/Profiles/Julien/ResMed_23221085377/Events'\n",
    "data_path = '/home/julien/Documents/oscar_data/Profiles/Julien/ResMed_23221085377/Events'\n",
    "list_files = [{'label': f, 'value': f} for f in listdir(data_path) if isfile(join(data_path, f))]"
   ]
  },
  {
   "cell_type": "code",
   "execution_count": null,
   "metadata": {},
   "outputs": [],
   "source": [
    "def event_data_to_dataframe_all_channel(oscar_session_data):\n",
    "    global_df = pd.DataFrame(columns=['Col1'])\n",
    "    possible_channels = [ChannelID.CPAP_FlowRate.value, ChannelID.CPAP_Obstructive.value, ChannelID.CPAP_Pressure.value]\n",
    "    for channel in oscar_session_data.data.channels:\n",
    "        if channel.code in possible_channels:\n",
    "            y_col_name = [c[5] for c in CHANNELS if c[1].value == channel.code][0]\n",
    "            gain = channel.events[0].gain\n",
    "            if channel.events[0].t8 == 0:\n",
    "                channel.events[0].time = range(0, channel.events[0].evcount * int(channel.events[0].rate),\n",
    "                                               int(channel.events[0].rate))\n",
    "            df = pd.DataFrame(data={'time': channel.events[0].time,\n",
    "                                    y_col_name+'_no_gain': channel.events[0].data})\n",
    "            df[y_col_name] = df[y_col_name+'_no_gain'] * gain\n",
    "\n",
    "            if channel.events[0].second_field:\n",
    "                # not tested because do not have 2nd field in files\n",
    "                df[y_col_name+'2_no_gain'] = channel.events[0].data2\n",
    "                df[y_col_name + '2'] = df[y_col_name+'2_no_gain'] * gain\n",
    "\n",
    "            df['time_absolute'] = df['time'] + channel.events[0].ts1\n",
    "            df['time_absolute'] = pd.to_datetime(df['time_absolute'], unit='ms')\n",
    "            #df.set_index('time_absolute', inplace=True)\n",
    "            df = df.filter(regex='^(?!.*_no_gain)')\n",
    "            if global_df.empty:\n",
    "                global_df = df\n",
    "            else:\n",
    "                #global_df = pd.merge(global_df, df, right_index=True, left_index=True, how='outer')\n",
    "                global_df = pd.merge(global_df, df, on='time_absolute', how='outer',suffixes=('', '_DROP')).filter(regex='^(?!.*_DROP)')\n",
    "                #global_df = pd.concat([global_df, df])\n",
    "\n",
    "    global_df['time_absolute'] = global_df['time_absolute'].dt.tz_localize('UTC')\n",
    "    global_df['local_time'] = global_df['time_absolute'].dt.tz_convert('America/Montreal')\n",
    "    global_df.sort_index(inplace=True)\n",
    "    return global_df"
   ]
  },
  {
   "cell_type": "code",
   "execution_count": null,
   "metadata": {},
   "outputs": [],
   "source": [
    "# reading files\n",
    "# number 2 has obstructive events\n",
    "oscar_session_data = load_session(os.path.join(data_path, list_files[0]['value']))\n",
    "df = event_data_to_dataframe_all_channel(oscar_session_data)\n",
    "\n",
    "# TODO handle Leak two value per time\n",
    "#df_Leak = event_data_to_dataframe(oscar_session_data, ChannelID.CPAP_Leak.value)\n",
    "#np.where(df.index.duplicated(keep=False) == True)\n",
    "\n",
    "#print(df.describe())\n",
    "#print(df)\n",
    "display(df)\n",
    "\n"
   ]
  },
  {
   "cell_type": "code",
   "execution_count": null,
   "metadata": {},
   "outputs": [],
   "source": [
    "# reorganize dataframe to seaborn imput format\n",
    "dfc = df[['FlowRate', 'Obstructive', 'Pressure', 'local_time']]\n",
    "dfm = dfc.melt('local_time', var_name='cols', value_name='vals')\n",
    "dfm.sort_values(by=['local_time'], inplace=True, ignore_index=True)\n",
    "dfm_annotation = dfm[(~pd.isnull(dfm['vals']) & (dfm['cols']=='Obstructive'))]\n",
    "display(dfm_annotation)"
   ]
  },
  {
   "cell_type": "code",
   "execution_count": null,
   "outputs": [],
   "source": [
    "# sns.set(rc={'figure.figsize':(25,15)})\n",
    "# fig, ax = plt.subplots()\n",
    "# sns.lineplot(data=dfm,x='local_time', y='vals', hue='cols')\n",
    "# for a in dfm_annotation['local_time']:\n",
    "#     plt.axvline(x=a, color='g', linewidth=3)"
   ],
   "metadata": {
    "collapsed": false
   }
  },
  {
   "cell_type": "code",
   "execution_count": null,
   "metadata": {},
   "outputs": [],
   "source": [
    "# sns.set(rc={'figure.figsize':(25,15)})\n",
    "# fig, ax = plt.subplots()\n",
    "# ax.set_ylim(-40, 50)\n",
    "# ax.set_xlim(datetime.datetime(2022, 6, 17, 21, 16,5), datetime.datetime(2022, 6, 17, 21, 16,30))\n",
    "# sns.lineplot(data=dfm,x='local_time', y='vals', hue='cols', ax = ax)\n",
    "# for a in dfm_annotation['local_time']:\n",
    "#     plt.axvline(x=a, color='g', linewidth=3)"
   ]
  },
  {
   "cell_type": "markdown",
   "source": [
    "# Statistiques\n",
    "- Nombre of sessions"
   ],
   "metadata": {
    "collapsed": false
   }
  },
  {
   "cell_type": "code",
   "execution_count": null,
   "outputs": [],
   "source": [
    "stats = dict()\n",
    "stats['nb_sessions'] = len(list_files)\n",
    "stats['sessions'] = []\n",
    "\n",
    "#loading all files\n",
    "with tqdm(total=len(list_files)) as pbar:\n",
    "    for f in list_files:\n",
    "        oscar_session_data = load_session(os.path.join(data_path, f['value']))\n",
    "        # len FlowRate\n",
    "        flowrate_chanel = get_channel_from_code(oscar_session_data, ChannelID.CPAP_FlowRate.value)\n",
    "        flowrate_event = flowrate_chanel.events[0]\n",
    "        stat_session = {'filename': f['label'],\n",
    "                        'nb channel': len(oscar_session_data.data.channels),\n",
    "                        'ts1' : flowrate_event.ts1,\n",
    "                        'ts2' : flowrate_event.ts2,\n",
    "                        'starting time' : datetime.datetime.fromtimestamp(flowrate_event.ts1/1000.0),\n",
    "                        'lenght FlowRate (ms)': flowrate_event.ts2 - flowrate_event.ts1,\n",
    "                        'FlowRate present': (ChannelID.CPAP_FlowRate.value in [c.code for c in oscar_session_data.data.channels])}\n",
    "        stats['sessions'].append(stat_session)\n",
    "        pbar.update(1)\n",
    "        oscar_session_data = None"
   ],
   "metadata": {
    "collapsed": false
   }
  },
  {
   "cell_type": "code",
   "execution_count": null,
   "outputs": [],
   "source": [
    "def ms_to_hour_min_sec_ms(ms):\n",
    "    sec, ms = divmod(ms, 1000)\n",
    "    min, sec = divmod(sec, 60)\n",
    "    hour, min = divmod(min, 60)\n",
    "    return hour, min, sec, ms"
   ],
   "metadata": {
    "collapsed": false
   }
  },
  {
   "cell_type": "code",
   "execution_count": null,
   "outputs": [],
   "source": [
    "import statistics as stat\n",
    "length_array = np.array([s['lenght FlowRate (ms)'] for s in stats['sessions']])\n",
    "avg_len = length_array.mean()\n",
    "med_len = np.median(length_array)\n",
    "pstdev_len = stat.pstdev(length_array.tolist())\n",
    "stats['FlowRate average length (ms)'] = avg_len\n",
    "stats['FlowRate std error length (ms)'] = pstdev_len\n",
    "stats['FlowRate median (ms)'] = med_len\n",
    "stats['FlowRate average length (hmsms))'] = ms_to_hour_min_sec_ms(avg_len)\n",
    "stats['FlowRate std error length (hmsms)'] = ms_to_hour_min_sec_ms(pstdev_len)\n",
    "stats['FlowRate median (ms)'] = ms_to_hour_min_sec_ms(med_len)"
   ],
   "metadata": {
    "collapsed": false
   }
  },
  {
   "cell_type": "code",
   "execution_count": null,
   "outputs": [],
   "source": [
    "stats"
   ],
   "metadata": {
    "collapsed": false
   }
  },
  {
   "cell_type": "code",
   "execution_count": null,
   "outputs": [],
   "source": [
    "sns.boxplot(data=length_array/1000.0/60/60).set(xlabel='Sessions', ylabel='Length (hour)')"
   ],
   "metadata": {
    "collapsed": false
   }
  },
  {
   "cell_type": "code",
   "execution_count": null,
   "outputs": [],
   "source": [],
   "metadata": {
    "collapsed": false
   }
  }
 ],
 "metadata": {
  "kernelspec": {
   "display_name": "Python 3 (ipykernel)",
   "language": "python",
   "name": "python3"
  },
  "language_info": {
   "codemirror_mode": {
    "name": "ipython",
    "version": 3
   },
   "file_extension": ".py",
   "mimetype": "text/x-python",
   "name": "python",
   "nbconvert_exporter": "python",
   "pygments_lexer": "ipython3",
   "version": "3.10.6"
  }
 },
 "nbformat": 4,
 "nbformat_minor": 1
}
