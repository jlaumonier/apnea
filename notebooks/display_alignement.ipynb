{
 "cells": [
  {
   "cell_type": "code",
   "execution_count": null,
   "outputs": [],
   "source": [
    "import sys\n",
    "from os import listdir\n",
    "from os.path import isfile, join\n",
    "import datetime\n",
    "\n",
    "import scipy as sy\n",
    "import scipy.fftpack as syfp\n",
    "from tqdm.notebook import tqdm\n",
    "import pandas as pd\n",
    "import matplotlib.pyplot as plt\n",
    "import matplotlib as mtpl\n",
    "import numpy as np\n",
    "\n",
    "from pyapnea.oscar.oscar_loader import load_session\n",
    "from pyapnea.oscar.oscar_getter import event_data_to_dataframe\n",
    "from pyapnea.oscar.oscar_constants import CHANNELS, ChannelID\n",
    "\n",
    "from src.data.preparation_tasks import align_channels"
   ],
   "metadata": {
    "collapsed": false
   }
  },
  {
   "cell_type": "code",
   "execution_count": null,
   "metadata": {
    "collapsed": true
   },
   "outputs": [],
   "source": [
    "filename_to_load = '../data/raw/ResMed_23192565579/Events/62202198.001'\n",
    "oscar_session_data = load_session(filename_to_load)\n",
    "df = event_data_to_dataframe(oscar_session_data, [ChannelID.CPAP_FlowRate.value, ChannelID.CPAP_ClearAirway.value, ChannelID.CPAP_Obstructive.value])\n",
    "df"
   ]
  },
  {
   "cell_type": "code",
   "execution_count": null,
   "outputs": [],
   "source": [
    "df[df['FlowRate'].isnull()]"
   ],
   "metadata": {
    "collapsed": false
   }
  },
  {
   "cell_type": "code",
   "execution_count": null,
   "outputs": [],
   "source": [
    "df_aligned = align_channels(df, 'FlowRate', '40ms')\n",
    "df_aligned.set_index('time_utc', inplace=True)\n",
    "df_aligned"
   ],
   "metadata": {
    "collapsed": false
   }
  },
  {
   "cell_type": "code",
   "execution_count": null,
   "outputs": [],
   "source": [
    "df_aligned[df_aligned['FlowRate'].isnull()]"
   ],
   "metadata": {
    "collapsed": false
   }
  },
  {
   "cell_type": "code",
   "execution_count": null,
   "outputs": [],
   "source": [
    "dfc = df_aligned[['FlowRate']]\n",
    "# dfm = dfc.melt('time_utc', var_name='cols', value_name='vals')\n",
    "# dfm.sort_values(by=['time_utc'], inplace=True, ignore_index=True)\n",
    "# dfm_annotation = dfm[(~pd.isnull(dfm['vals']) & ((dfm['cols']=='Obstructive') | (dfm['cols']=='ClearAirway')))]\n",
    "# display(dfm_annotation)\n",
    "dfm_annotation=df_aligned[~df_aligned['Obstructive'].isna() | ~df_aligned['ClearAirway'].isna()]\n",
    "dfm_annotation=dfm_annotation[['Obstructive', 'ClearAirway']]\n",
    "dfm_annotation"
   ],
   "metadata": {
    "collapsed": false
   }
  },
  {
   "cell_type": "code",
   "execution_count": null,
   "outputs": [],
   "source": [
    "event_time = dfm_annotation.index[1]\n",
    "_ = plt.figure(figsize=(25,10))\n",
    "_ = plt.plot(df_aligned['FlowRate'], color='blue', label='Original')\n",
    "_ = plt.plot(dfm_annotation[~dfm_annotation['Obstructive'].isna()], linestyle='none', marker='X', color='red', markersize=10)\n",
    "_ = plt.plot(dfm_annotation[~dfm_annotation['ClearAirway'].isna()], linestyle='none', marker='X', color='green', markersize=10)\n",
    "_ = plt.legend(loc='best')\n",
    "_ = plt.title('FlowRate')\n",
    "plt.ylim(-50, 50)\n",
    "plt.xlim(event_time - datetime.timedelta(seconds=50), event_time + datetime.timedelta(seconds=10))\n",
    "plt.show()"
   ],
   "metadata": {
    "collapsed": false
   }
  },
  {
   "cell_type": "code",
   "execution_count": null,
   "outputs": [],
   "source": [],
   "metadata": {
    "collapsed": false
   }
  }
 ],
 "metadata": {
  "kernelspec": {
   "display_name": "Python 3",
   "language": "python",
   "name": "python3"
  },
  "language_info": {
   "codemirror_mode": {
    "name": "ipython",
    "version": 2
   },
   "file_extension": ".py",
   "mimetype": "text/x-python",
   "name": "python",
   "nbconvert_exporter": "python",
   "pygments_lexer": "ipython2",
   "version": "2.7.6"
  }
 },
 "nbformat": 4,
 "nbformat_minor": 0
}
