{
 "cells": [
  {
   "cell_type": "markdown",
   "metadata": {},
   "source": [
    "# Using MNE package for data storage.\n",
    "## inspired from https://www.kaggle.com/code/nizarislah/sleep-apnea-notebook"
   ]
  },
  {
   "cell_type": "code",
   "execution_count": null,
   "metadata": {},
   "outputs": [],
   "source": [
    "import sys\n",
    "from os import listdir\n",
    "from os.path import isfile, join\n",
    "from datetime import  timezone\n",
    "\n",
    "from tqdm.notebook import tqdm\n",
    "import mne\n",
    "\n",
    "\n",
    "\n",
    "from pyapnea.oscar.oscar_loader import load_session\n",
    "from pyapnea.oscar.oscar_getter import event_data_to_dataframe, get_channel_from_code\n",
    "from pyapnea.oscar.oscar_constants import CHANNELS, ChannelID"
   ]
  },
  {
   "cell_type": "code",
   "execution_count": null,
   "outputs": [],
   "source": [
    "# all files\n",
    "data_path_cpap1 = '../data/raw/ResMed_23192565579/Events'\n",
    "list_files = [{'label': f, 'value': f, 'fullpath': join(data_path_cpap1, f)} for f in listdir(data_path_cpap1) if isfile(join(data_path_cpap1, f))]\n",
    "data_path_cpap2= '../data/raw/ResMed_23221085377/Events'\n",
    "list_files.extend([{'label': f, 'value': f, 'fullpath': join(data_path_cpap2, f)} for f in listdir(data_path_cpap2) if isfile(join(data_path_cpap2, f))])\n"
   ],
   "metadata": {
    "collapsed": false
   }
  },
  {
   "cell_type": "code",
   "execution_count": null,
   "metadata": {},
   "outputs": [],
   "source": [
    "filename_to_load = '../data/raw/ResMed_23192565579/Events/62202198.001'\n",
    "oscar_session_data = load_session(filename_to_load)\n",
    "df = event_data_to_dataframe(oscar_session_data, ChannelID.CPAP_FlowRate.value)\n",
    "\n",
    "sfreq = 25\n",
    "\n",
    "df"
   ]
  },
  {
   "cell_type": "code",
   "execution_count": null,
   "metadata": {},
   "outputs": [],
   "source": [
    "info = mne.create_info(ch_names=['FlowRate'] * 1 ,\n",
    "                       ch_types=['misc'] * 1,\n",
    "                       sfreq=sfreq)\n",
    "#print(df['time_utc'].iloc[0].to_pydatetime())\n",
    "raw = mne.io.RawArray(df[['FlowRate']].transpose(), info)\n",
    "d = df['time_utc'].iloc[0].to_pydatetime().astimezone(timezone.utc)\n",
    "raw.set_meas_date(d)\n",
    "raw.plot(show_scrollbars=False, show_scalebars=False,\n",
    "         time_format='clock',\n",
    "         scalings=dict(misc=50))"
   ]
  },
  {
   "cell_type": "code",
   "execution_count": null,
   "metadata": {},
   "outputs": [],
   "source": [
    "#loading all files into mne structures\n",
    "raw_array = []\n",
    "df_array = []\n",
    "with tqdm(total=len(list_files)) as pbar:\n",
    "    for f in list_files:\n",
    "        oscar_session_data = load_session(f['fullpath'])\n",
    "        df = event_data_to_dataframe(oscar_session_data, ChannelID.CPAP_FlowRate.value)\n",
    "        info = mne.create_info(ch_names=['FlowRate'] * 1 ,\n",
    "                       ch_types=['misc'] * 1,\n",
    "                       sfreq=sfreq)\n",
    "        raw = mne.io.RawArray(df[['FlowRate']].transpose(), info, verbose=False)\n",
    "        d = df['time_utc'].iloc[0].to_pydatetime().astimezone(timezone.utc)\n",
    "        raw.set_meas_date(d)\n",
    "        raw_array.append(raw)\n",
    "        pbar.update(1)\n"
   ]
  }
 ],
 "metadata": {
  "kernelspec": {
   "display_name": "Python 3 (ipykernel)",
   "language": "python",
   "name": "python3"
  },
  "language_info": {
   "codemirror_mode": {
    "name": "ipython",
    "version": 3
   },
   "file_extension": ".py",
   "mimetype": "text/x-python",
   "name": "python",
   "nbconvert_exporter": "python",
   "pygments_lexer": "ipython3",
   "version": "3.10.6"
  }
 },
 "nbformat": 4,
 "nbformat_minor": 1
}
