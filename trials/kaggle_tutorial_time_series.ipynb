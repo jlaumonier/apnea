{
 "cells": [
  {
   "cell_type": "markdown",
   "source": [
    "# Kaggle Time serie tutorial applied to Apnea data\n",
    "\n",
    "(Inspired by https://www.kaggle.com/code/konradb/ts-0-the-basics?scriptVersionId=106894931)"
   ],
   "metadata": {
    "collapsed": false
   }
  },
  {
   "cell_type": "code",
   "execution_count": null,
   "metadata": {
    "collapsed": true
   },
   "outputs": [],
   "source": [
    "import pandas as pd\n",
    "import numpy as np\n",
    "from random import gauss\n",
    "from pandas.plotting import autocorrelation_plot\n",
    "import warnings\n",
    "import itertools\n",
    "from random import random\n",
    "from os import listdir, path\n",
    "from os.path import isfile, join\n",
    "from tqdm.notebook import tqdm\n",
    "\n",
    "import statsmodels.formula.api as smf\n",
    "import statsmodels.api as sm\n",
    "from statsmodels.graphics.tsaplots import plot_acf, plot_pacf\n",
    "from statsmodels.tsa.ar_model import AR\n",
    "from statsmodels.tsa.seasonal import seasonal_decompose\n",
    "from statsmodels.tsa.stattools import adfuller\n",
    "\n",
    "import matplotlib.pyplot as plt\n",
    "#plt.style.use('fivethirtyeight')\n",
    "# import matplotlib as mpl\n",
    "import seaborn as sns\n",
    "\n",
    "# v0.0.3\n",
    "from pyapnea.oscar.oscar_loader import load_session\n",
    "from pyapnea.oscar.oscar_getter import event_data_to_dataframe, get_channel_from_code\n",
    "from pyapnea.oscar.oscar_constants import CHANNELS, ChannelID"
   ]
  },
  {
   "cell_type": "code",
   "execution_count": null,
   "outputs": [],
   "source": [
    "# adjust the parameters for displayed figures\n",
    "plt.rcParams.update({'figure.figsize': (30, 10)})"
   ],
   "metadata": {
    "collapsed": false
   }
  },
  {
   "cell_type": "code",
   "execution_count": null,
   "outputs": [],
   "source": [
    "filename_to_load = '../data/raw/ResMed_23192565579/Events/62202198.001'\n",
    "oscar_session_data = load_session(filename_to_load)\n",
    "df = event_data_to_dataframe(oscar_session_data, [ChannelID.CPAP_FlowRate.value])\n",
    "df[['time_utc', 'FlowRate']].set_index('time_utc').plot()"
   ],
   "metadata": {
    "collapsed": false
   }
  },
  {
   "cell_type": "code",
   "execution_count": null,
   "outputs": [],
   "source": [
    "# decomposition\n",
    "# Period : 4s (approximately) of inspiration-expiration => 4000 ms / 40 ms (freq = 25Hz) = 100\n",
    "# Period : 1 min  => 60000 ms / 40 ms (freq = 25Hz) = 1500\n",
    "period = 100\n",
    "df_nozero = df.copy()\n",
    "df_nozero['FlowRate'] = df_nozero['FlowRate'] + 50\n",
    "decomposition = sm.tsa.seasonal_decompose(df_nozero[\"FlowRate\"].iloc[0:5000], period=period, model='additive')\n",
    "figure = decomposition.plot()\n",
    "plt.show()"
   ],
   "metadata": {
    "collapsed": false
   }
  },
  {
   "cell_type": "code",
   "execution_count": null,
   "outputs": [],
   "source": [
    "# LAGS ??\n",
    "plot_acf(df['FlowRate'], lags = period)"
   ],
   "metadata": {
    "collapsed": false
   }
  },
  {
   "cell_type": "code",
   "execution_count": null,
   "outputs": [],
   "source": [
    "df['FlowRate'].plot.hist(bins=50, alpha=0.5)"
   ],
   "metadata": {
    "collapsed": false
   }
  },
  {
   "cell_type": "code",
   "execution_count": null,
   "outputs": [],
   "source": [
    "X = df['FlowRate'].values\n",
    "split =  int(len(X) / 2)\n",
    "X1, X2 = X[0:split], X[split:]\n",
    "mean0, mean1, mean2 = X.mean(), X1.mean(), X2.mean()\n",
    "var0, var1, var2 = X.var(), X1.var(), X2.var()\n",
    "print('mean:')\n",
    "print('all: %.2f, chunk1: %.2f vs chunk2: %.2f' % (mean0, mean1, mean2))\n",
    "print('variance:')\n",
    "print('all: %.2f, chunk1: %.2f vs chunk2: %.2f' % (var0, var1, var2))"
   ],
   "metadata": {
    "collapsed": false
   }
  },
  {
   "cell_type": "markdown",
   "source": [
    "NOTE : Not continuing this notebook. The aims is signal forecasting and it's not interesting for apena event detection (anomaly detection)"
   ],
   "metadata": {
    "collapsed": false
   }
  },
  {
   "cell_type": "code",
   "execution_count": null,
   "outputs": [],
   "source": [],
   "metadata": {
    "collapsed": false
   }
  }
 ],
 "metadata": {
  "kernelspec": {
   "display_name": "Python 3",
   "language": "python",
   "name": "python3"
  },
  "language_info": {
   "codemirror_mode": {
    "name": "ipython",
    "version": 2
   },
   "file_extension": ".py",
   "mimetype": "text/x-python",
   "name": "python",
   "nbconvert_exporter": "python",
   "pygments_lexer": "ipython2",
   "version": "2.7.6"
  }
 },
 "nbformat": 4,
 "nbformat_minor": 0
}
