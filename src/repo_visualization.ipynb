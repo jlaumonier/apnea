{
 "cells": [
  {
   "cell_type": "code",
   "execution_count": null,
   "id": "initial_id",
   "metadata": {},
   "outputs": [],
   "source": [
    "import os\n",
    "\n",
    "from ipywidgets import Text, Textarea, jslink, link, HBox, VBox, HTML\n",
    "from ipytree import Tree, Node\n",
    "from ipy_table import *\n",
    "\n",
    "from src.pipeline.repository import Repository"
   ]
  },
  {
   "cell_type": "code",
   "execution_count": null,
   "id": "e036e2766a3d08f3",
   "metadata": {
    "collapsed": false
   },
   "outputs": [],
   "source": [
    "data_repo_path = os.path.join('..', 'data', 'repository')\n",
    "repo = Repository(data_repo_path)"
   ]
  },
  {
   "cell_type": "code",
   "execution_count": null,
   "id": "a2933f56-0ca8-4083-9e82-676bf964fc93",
   "metadata": {
    "collapsed": false
   },
   "outputs": [],
   "source": [
    "id_text = Text()\n",
    "task_function = Textarea()\n",
    "option_task = HTML()"
   ]
  },
  {
   "cell_type": "code",
   "execution_count": null,
   "id": "23626ac8-d107-4151-9064-ca16cc964aab",
   "metadata": {
    "collapsed": false
   },
   "outputs": [],
   "source": [
    "def get_id_from_node(n):\n",
    "    return n.name.split('/')[1].strip()\n",
    "\n",
    "def get_task(id):\n",
    "    ds = repo.metadata['datasets'][id]\n",
    "    task_name = ''\n",
    "    if 'task_config' in ds:\n",
    "        task_name = str(ds['task_config']['pipeline']['data']['tasks']['task_func']['_target_'])\n",
    "        task_name = task_name.split('.')[-1]\n",
    "    return task_name\n",
    "\n",
    "def make_table_from_dict(d: dict):\n",
    "    # lists\n",
    "    temp = []\n",
    "    dictList = []\n",
    "    # convert the dictionary to a list\n",
    "    for key, value in d.items():     \n",
    "        temp = [key,value]\n",
    "        dictList.append(temp)\n",
    "    make_table(dictList)\n",
    "    return render()._repr_html_()\n",
    "\n",
    "def handle_click(event):\n",
    "    ds_id = get_id_from_node(event['owner'])\n",
    "    ds = repo.metadata['datasets'][ds_id]\n",
    "    task_name = get_task(ds_id)\n",
    "    \n",
    "    id_text.value = ds_id\n",
    "    task_function.value = ''\n",
    "    option_task.value = ''\n",
    "    if 'task_config' in ds:\n",
    "        task_function.value = get_task(ds_id)\n",
    "        option_task.value = make_table_from_dict(ds['task_config']['pipeline']['data']['tasks']['task_func'])\n",
    "    \n",
    "       \n",
    "def create_tree_from_repo(repo: Repository):\n",
    "    tree = Tree()\n",
    "    list_node = []\n",
    "    datatsets = repo.metadata['datasets']\n",
    "    for ds_id in datatsets.keys():\n",
    "        task_name = get_task(ds_id)\n",
    "        n = Node(task_name + \" / \" + ds_id)      \n",
    "        n.observe(handle_click, 'selected')\n",
    "        list_node.append(n)\n",
    "    \n",
    "    for n in list_node:\n",
    "        ds_id = get_id_from_node(n)\n",
    "        if 'task_config' not in datatsets[ds_id]:\n",
    "            tree.add_node(n)\n",
    "        else:\n",
    "            src_id = datatsets[ds_id]['task_config']['pipeline']['data']['dataset']['source']\n",
    "            parent_node = [n for n in list_node if src_id in n.name][0]\n",
    "            parent_node.add_node(n)            \n",
    "    return tree\n",
    "\n"
   ]
  },
  {
   "cell_type": "code",
   "execution_count": null,
   "id": "f419f521a4f21179",
   "metadata": {
    "collapsed": false
   },
   "outputs": [],
   "source": [
    "repo_tree = create_tree_from_repo(repo)"
   ]
  },
  {
   "cell_type": "code",
   "execution_count": null,
   "id": "9cf0023c0828afbd",
   "metadata": {
    "collapsed": false
   },
   "outputs": [],
   "source": [
    "HBox(children=[ repo_tree, VBox(children = [id_text, task_function, option_task])])"
   ]
  },
  {
   "cell_type": "code",
   "execution_count": null,
   "id": "d734cb05e6e3ad98",
   "metadata": {
    "collapsed": false
   },
   "outputs": [],
   "source": []
  },
  {
   "cell_type": "code",
   "execution_count": null,
   "id": "e21ecca1-7647-49a4-9fd1-df569789359c",
   "metadata": {},
   "outputs": [],
   "source": []
  }
 ],
 "metadata": {
  "kernelspec": {
   "display_name": "Python 3 (ipykernel)",
   "language": "python",
   "name": "python3"
  },
  "language_info": {
   "codemirror_mode": {
    "name": "ipython",
    "version": 3
   },
   "file_extension": ".py",
   "mimetype": "text/x-python",
   "name": "python",
   "nbconvert_exporter": "python",
   "pygments_lexer": "ipython3",
   "version": "3.10.12"
  }
 },
 "nbformat": 4,
 "nbformat_minor": 5
}
